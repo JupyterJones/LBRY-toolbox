{
 "cells": [
  {
   "cell_type": "code",
   "execution_count": 1,
   "metadata": {},
   "outputs": [
    {
     "name": "stdout",
     "output_type": "stream",
     "text": [
      "/home/jack/Desktop/LBRY-toolbox\r\n"
     ]
    }
   ],
   "source": [
    "!pwd"
   ]
  },
  {
   "cell_type": "code",
   "execution_count": 4,
   "metadata": {},
   "outputs": [
    {
     "name": "stdout",
     "output_type": "stream",
     "text": [
      "What is the name of your directory/home/jack/Desktop/LBRY-toolbox\n",
      "What word are you trying to find?private\n",
      ". . found string in file: stream_list2.db\n",
      ". . . . . . . found string in file: Untitled1.ipynb\n",
      "found string in file: stream_list-exp.db\n",
      ". found string in file: How-to-get-claim_list-all-working.ipynb\n",
      ". . . . found string in file: claim_list.json\n",
      "found string in file: stream_list-exp.json\n",
      ". found string in file: How-to-get-stream_list-all-working.ipynb\n",
      ". . . . found string in file: 5279.db\n",
      ". . . . . . . . found string in file: LBRYDATA.db\n",
      ". found string in file: claim_list.db\n",
      ". . found string in file: stream_list.db\n",
      ". . . . . . . found string in file: LBRY-Python-Place-Data-in-Database.ipynb\n",
      ". "
     ]
    }
   ],
   "source": [
    "import os\n",
    "\n",
    "user_input = input('What is the name of your directory')\n",
    "directory = os.listdir(user_input)\n",
    "\n",
    "searchstring = input('What word are you trying to find?')\n",
    "\n",
    "for fname in directory:\n",
    "    if os.path.isfile(user_input + os.sep + fname):\n",
    "        # Full path\n",
    "        f = open(user_input + os.sep + fname, 'r',encoding='latin1')\n",
    "\n",
    "        if searchstring in f.read():\n",
    "            print('found string in file: %s' % fname)\n",
    "        else:\n",
    "            print('.', end=\" \")\n",
    "        f.close()"
   ]
  },
  {
   "cell_type": "code",
   "execution_count": null,
   "metadata": {},
   "outputs": [],
   "source": [
    "!ll"
   ]
  },
  {
   "cell_type": "code",
   "execution_count": null,
   "metadata": {},
   "outputs": [],
   "source": []
  }
 ],
 "metadata": {
  "kernelspec": {
   "display_name": "Python 3",
   "language": "python",
   "name": "python3"
  },
  "language_info": {
   "codemirror_mode": {
    "name": "ipython",
    "version": 3
   },
   "file_extension": ".py",
   "mimetype": "text/x-python",
   "name": "python",
   "nbconvert_exporter": "python",
   "pygments_lexer": "ipython3",
   "version": "3.7.0"
  }
 },
 "nbformat": 4,
 "nbformat_minor": 4
}
