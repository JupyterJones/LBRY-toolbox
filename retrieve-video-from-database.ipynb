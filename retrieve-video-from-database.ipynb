{
 "cells": [
  {
   "cell_type": "markdown",
   "metadata": {},
   "source": [
    "# Testing the database and download script"
   ]
  },
  {
   "cell_type": "code",
   "execution_count": 29,
   "metadata": {},
   "outputs": [
    {
     "name": "stdout",
     "output_type": "stream",
     "text": [
      "SEARCH: data\n",
      "('0-', u'database', ':', u'cloud-computing-database-introduction#db72d9a32c7fa28d4be01358dce58b7012589a29')\n",
      "('1-', u'database', ':', u'mysql-create-delete-database-and-show#7d55625c243ccc3d51319dd0e48aa9c093692bef')\n",
      "('2-', u'database', ':', u'floridas-teacher-pedo-database#f940bb5cc94308eb1b218543676f8e21e67ce62f')\n",
      "('3-', u'database', ':', u'custom-database-queries-in-wordpress#174e8d95091cb3fc2ef69fb3b25810400fb2d9a6')\n",
      "('4-', u'database', ':', u'Body-Language---FBI-Kavanaugh-Investigation---FISA-Database-FBI-Director-Wray#216c7eb611aa6b9b5857196dc4b675369e83d6c0')\n",
      "('5-', u'database', ':', u'Time---BreedReady-mH2aRuVtvnw#137e288e411bb2091fa37270d9b0dd02b87afeb6')\n",
      "('6-', u'database', ':', u'What-is-DISTRIBUTED-DATABASE#b39b9f17ae98ec183c99a6e9d567338234cf1aa6')\n",
      "('7-', u'database', ':', u'What-is-DATABASE-SERVER#71e5e80ebdbf3c264d90492fa77efd611ab6cf90')\n",
      "('8-', u'database', ':', u'SQL-Server-Database-Integration-thumb#37eabdc717b3444eca23ceef2f88a20c37e1f593')\n",
      "('9-', u'database', ':', u'SQL-Serever-Database-Integration-thumb#404d0d90434c8d2f72153784cd15613e24ead698')\n",
      "('10-', u'sqlite3', ':', u'creating-python-sqlite3-database-snippet#775f02cf48517d85763e5f1de14b8484c1c222bf')\n",
      "('11-', u'sqlite3', ':', u'youtube-data-parsed-with-python-rss#1ac7646748d3814d46581fb495b11f2da0508534')\n",
      "('12-', u'data', ':', u'What-is-DATA-EVENT#47c81b69bc56d56b73f87c1d794ecd6b8e1485aa')\n",
      "('13-', u'data', ':', u'grand-theft-data#5e9ec5e2721e8d9aab37b190ea99f2a8cecf6dd6')\n",
      "('14-', u'data', ':', u'The-Value-of-Your-Personal-Data#1d0fdb3354bcc08035305363ede074f10892179d')\n",
      "('15-', u'data', ':', u'contour-exporter-exporting-data#eb714d875ba2840486f57812c142b35fc44f8dc6')\n",
      "('16-', u'data', ':', u'the-best-video-and-data-recovery#dec6cbe78889ce3b74a0c68c4ce606bd44c0b4a7')\n",
      "('17-', u'data', ':', u'wyze-leaks-personal-data#f0efa17d8602f0500509b72d2d63bba29b58f5f8')\n",
      "('18-', u'data', ':', u'mysql-data-types-introduction#9dced945cf02ca908bbcd05d6d3ca15188fe1e12')\n",
      "('19-', u'data', ':', u'natal-uma-data-superestimada#aacc2b82a04d6c1d8558584f0694a6db076df259')\n",
      "('20-', u'data', ':', u'your-tinder-data-they-have-to-give-it-to#5d87d4faa8e77c326ee29e381b4e6fcc7348a6d8')\n",
      "('21-', u'data', ':', u'data-technologies#9233191362c0bf89984cdae8d612057788bb0f06')\n",
      "download  number: 7\n",
      "----------------\n",
      "ID to Download :  ('7-', u'database', ':', u'What-is-DATABASE-SERVER#71e5e80ebdbf3c264d90492fa77efd611ab6cf90')\n",
      "----------------\n",
      "What-is-DATABASE-SERVER#71e5e80ebdbf3c264d90492fa77efd611ab6cf90\n"
     ]
    }
   ],
   "source": [
    "#%%writefile checkDB\n",
    "#!/usr/bin.python2\n",
    "from Completedpy2 import track_download\n",
    "import subprocess\n",
    "import sqlite3\n",
    "database = 'LBRYDATA.db'\n",
    "conn = sqlite3.connect(database)  \n",
    "c=conn.cursor()\n",
    "search = raw_input(\"SEARCH: \")\n",
    "ID = []\n",
    "cnt=0\n",
    "for row in c.execute('SELECT ROWID, * FROM LBRY'):\n",
    "    if search in row[1] or search in row[2]:\n",
    "        Cnt=str(cnt)\n",
    "        All=Cnt+\"-\",row[1],\":\",row[2]\n",
    "        print All\n",
    "        cnt=cnt+1\n",
    "        ID.append(All)\n",
    "download = int(raw_input(\"download  number: \"))\n",
    "if download==99:raise SystemExit(\"Stopped by 99 !\") \n",
    "print \"----------------\"\n",
    "print \"ID to Download : \",ID[download]\n",
    "print \"----------------\"\n",
    "ST = str(ID[download])\n",
    "Id = ST.split(\"'\")\n",
    "print Id[len(Id)-2]\n"
   ]
  },
  {
   "cell_type": "markdown",
   "metadata": {},
   "source": [
    "### This the current directory"
   ]
  },
  {
   "cell_type": "code",
   "execution_count": 40,
   "metadata": {},
   "outputs": [
    {
     "name": "stdout",
     "output_type": "stream",
     "text": [
      "/home/jack/Desktop/lighthouse\n"
     ]
    }
   ],
   "source": [
    "# This the current directory\n",
    "import os\n",
    "DownloadDirectory = os.getcwd()\n",
    "print DownloadDirectory"
   ]
  },
  {
   "cell_type": "markdown",
   "metadata": {},
   "source": [
    "## Download a video from the database to the current directory"
   ]
  },
  {
   "cell_type": "code",
   "execution_count": 39,
   "metadata": {},
   "outputs": [
    {
     "name": "stdout",
     "output_type": "stream",
     "text": [
      "SEARCH: fish\n",
      "('0-', u'linux', ':', u'linux-spotlight-ep28-chris-fisher#a86f938ba069ab843fdb9db635a62058a13fa1e4')\n",
      "('1-', u'synfig', ':', u'synfig-studio-experiment-with-fish-fin#fdea2234259cd1515d4f50e7051a76cc7933d697')\n",
      "download  number: 1\n",
      "---------------------------\n",
      "ID to Download ('1-', u'synfig', ':', u'synfig-studio-experiment-with-fish-fin#fdea2234259cd1515d4f50e7051a76cc7933d697')\n",
      "---------------------------\n",
      "synfig-studio-experiment-with-fish-fin#fdea2234259cd1515d4f50e7051a76cc7933d697\n",
      "lbrynet get synfig-studio-experiment-with-fish-fin#fdea2234259cd1515d4f50e7051a76cc7933d697 --download_directory=/home/jack/Desktop/lighthouse\n",
      "waiting ...\n"
     ]
    }
   ],
   "source": [
    "#%%writefile DB_Current\n",
    "#!/usr/bin.python2\n",
    "from Completedpy2 import track_download\n",
    "import subprocess\n",
    "import sqlite3\n",
    "import os\n",
    "database = 'LBRYDATA.db'\n",
    "conn = sqlite3.connect(database)  \n",
    "c=conn.cursor()\n",
    "search = raw_input(\"SEARCH: \")\n",
    "ID = []\n",
    "cnt=0\n",
    "for row in c.execute('SELECT ROWID, * FROM LBRY'):\n",
    "    if search in row[1] or search in row[2]:\n",
    "        Cnt=str(cnt)\n",
    "        All=Cnt+\"-\",row[1],\":\",row[2]\n",
    "        print All\n",
    "        cnt=cnt+1\n",
    "        ID.append(All)\n",
    "download = int(raw_input(\"download  number: \"))\n",
    "print \"---------------------------\"\n",
    "print \"ID to Download\",ID[download]\n",
    "print \"---------------------------\"\n",
    "ST = str(ID[download])\n",
    "Id = ST.split(\"'\")\n",
    "print Id[len(Id)-2]\n",
    "DownloadDirectory = os.getcwd()\n",
    "bashCommand = \"lbrynet get \"+Id[len(Id)-2]+\" --download_directory=\"+DownloadDirectory\n",
    "# This downloads to the Default LBRY folder ( $HOME/Downloads )\n",
    "# bashCommand = \"lbrynet get \"+Id[len(Id)-2]\n",
    "print bashCommand\n",
    "process = subprocess.Popen(bashCommand.split(), stdout=subprocess.PIPE)\n",
    "output, error = process.communicate() \n",
    "print \"waiting ...\"\n",
    "#track_download()"
   ]
  },
  {
   "cell_type": "code",
   "execution_count": null,
   "metadata": {},
   "outputs": [],
   "source": [
    "# 1.1  Download a video from the database to: home/user/Downloads"
   ]
  },
  {
   "cell_type": "code",
   "execution_count": 23,
   "metadata": {},
   "outputs": [
    {
     "name": "stdout",
     "output_type": "stream",
     "text": [
      "SEARCH: studio\n",
      "0 - 367 : synfig : synfig-studio-advanced-animation#68b349c13ed55238ebae25d146b3de6192ed53d3\n",
      "1 - 368 : synfig : synfig-studio-simple-animation-tutorial#b4afea0e91d1635ee990d5060ccc15a506aea9e6\n",
      "2 - 369 : synfig : synfig-studio-kdenlive-create-animated#b6847ad5de1d9c72ea49a15afbd6436839a1b5c4\n",
      "3 - 370 : synfig : synfig-studio-kdenlive-gimp-animation#794c3362bcde3b31878d34d1b5cb0550f7045bef\n",
      "4 - 371 : synfig : synfig-studio-kdenlive-video-editor#7333144cf888ed3c09b054f1a51c24d5eb588f86\n",
      "5 - 372 : synfig : synfig-studio-experiment-with-fish-fin#fdea2234259cd1515d4f50e7051a76cc7933d697\n",
      "6 - 373 : synfig : collage-art-synfig-studio-kdenlive-gimp#4d90559cbfe75bc2fafe451bd4a0f263b94a5498\n",
      "7 - 403 : synfig-studio : how-to-create-an-animation-using-krita#1c2cb12118c1316e837f0bd798272a7228a2e214\n",
      "download  number: 4\n",
      "ID ('4-', 371, ':', u'synfig', ':', u'synfig-studio-kdenlive-video-editor#7333144cf888ed3c09b054f1a51c24d5eb588f86')\n",
      "---------------------------\n",
      "9\n",
      "synfig-studio-kdenlive-gimp-animation#794c3362bcde3b31878d34d1b5cb0550f7045bef\n",
      "lbrynet get synfig-studio-kdenlive-gimp-animation#794c3362bcde3b31878d34d1b5cb0550f7045bef\n",
      "waiting ...\n",
      "2.10Mb 6.66Mb No filesize change\n"
     ]
    },
    {
     "data": {
      "text/plain": [
       "['The File Appears to be completed.']"
      ]
     },
     "execution_count": 23,
     "metadata": {},
     "output_type": "execute_result"
    }
   ],
   "source": [
    "%%writefile DB_Download\n",
    "#!/usr/bin.python2\n",
    "from Completedpy2 import track_download\n",
    "import subprocess\n",
    "import sqlite3\n",
    "database = 'LBRYDATA.db'\n",
    "conn = sqlite3.connect(database)  \n",
    "c=conn.cursor()\n",
    "search = raw_input(\"SEARCH: \")\n",
    "ID = []\n",
    "cnt=0\n",
    "for row in c.execute('SELECT ROWID, * FROM LBRY'):\n",
    "    if search in row[1] or search in row[2]:\n",
    "\n",
    "        Cnt=str(cnt)\n",
    "        print Cnt,\"-\",row[0],\":\",row[1],\":\",row[2]\n",
    "        All=Cnt+\"-\",row[0],\":\",row[1],\":\",row[2]\n",
    "        cnt=cnt+1        \n",
    "        ID.append(All)\n",
    "download = int(raw_input(\"download  number: \"))\n",
    "#print ID[download-1]\n",
    "print \"ID\",ID[download]\n",
    "print \"---------------------------\"\n",
    "ST = str(ID[3])\n",
    "Id = ST.split(\"'\")\n",
    "print len(Id)-2\n",
    "print Id[len(Id)-2]\n",
    "#for item in Id:\n",
    "#    print item\n",
    "bashCommand = \"lbrynet get \"+Id[len(Id)-2]\n",
    "print bashCommand\n",
    "process = subprocess.Popen(bashCommand.split(), stdout=subprocess.PIPE)\n",
    "output, error = process.communicate() \n",
    "print \"waiting ...\"\n",
    "track_download()\n"
   ]
  },
  {
   "cell_type": "code",
   "execution_count": 6,
   "metadata": {},
   "outputs": [
    {
     "name": "stdout",
     "output_type": "stream",
     "text": [
      "SEARCH: data\n",
      "1 - 1 : database : cloud-computing-database-introduction#db72d9a32c7fa28d4be01358dce58b7012589a29\n",
      "2 - 2 : database : mysql-create-delete-database-and-show#7d55625c243ccc3d51319dd0e48aa9c093692bef\n",
      "3 - 3 : database : floridas-teacher-pedo-database#f940bb5cc94308eb1b218543676f8e21e67ce62f\n",
      "4 - 4 : database : custom-database-queries-in-wordpress#174e8d95091cb3fc2ef69fb3b25810400fb2d9a6\n",
      "5 - 5 : database : Body-Language---FBI-Kavanaugh-Investigation---FISA-Database-FBI-Director-Wray#216c7eb611aa6b9b5857196dc4b675369e83d6c0\n",
      "6 - 6 : database : Time---BreedReady-mH2aRuVtvnw#137e288e411bb2091fa37270d9b0dd02b87afeb6\n",
      "7 - 7 : database : What-is-DISTRIBUTED-DATABASE#b39b9f17ae98ec183c99a6e9d567338234cf1aa6\n",
      "8 - 8 : database : What-is-DATABASE-SERVER#71e5e80ebdbf3c264d90492fa77efd611ab6cf90\n",
      "9 - 9 : database : SQL-Server-Database-Integration-thumb#37eabdc717b3444eca23ceef2f88a20c37e1f593\n",
      "10 - 10 : database : SQL-Serever-Database-Integration-thumb#404d0d90434c8d2f72153784cd15613e24ead698\n",
      "11 - 19 : sqlite3 : creating-python-sqlite3-database-snippet#775f02cf48517d85763e5f1de14b8484c1c222bf\n",
      "12 - 21 : sqlite3 : youtube-data-parsed-with-python-rss#1ac7646748d3814d46581fb495b11f2da0508534\n",
      "13 - 440 : data : What-is-DATA-EVENT#47c81b69bc56d56b73f87c1d794ecd6b8e1485aa\n",
      "14 - 441 : data : grand-theft-data#5e9ec5e2721e8d9aab37b190ea99f2a8cecf6dd6\n",
      "15 - 442 : data : The-Value-of-Your-Personal-Data#1d0fdb3354bcc08035305363ede074f10892179d\n",
      "16 - 443 : data : contour-exporter-exporting-data#eb714d875ba2840486f57812c142b35fc44f8dc6\n",
      "17 - 444 : data : the-best-video-and-data-recovery#dec6cbe78889ce3b74a0c68c4ce606bd44c0b4a7\n",
      "18 - 445 : data : wyze-leaks-personal-data#f0efa17d8602f0500509b72d2d63bba29b58f5f8\n",
      "19 - 446 : data : mysql-data-types-introduction#9dced945cf02ca908bbcd05d6d3ca15188fe1e12\n",
      "20 - 447 : data : natal-uma-data-superestimada#aacc2b82a04d6c1d8558584f0694a6db076df259\n",
      "21 - 448 : data : your-tinder-data-they-have-to-give-it-to#5d87d4faa8e77c326ee29e381b4e6fcc7348a6d8\n",
      "22 - 449 : data : data-technologies#9233191362c0bf89984cdae8d612057788bb0f06\n",
      "download  number: 5\n",
      "ID ('6-', 6, ':', u'database', ':', u'Time---BreedReady-mH2aRuVtvnw#137e288e411bb2091fa37270d9b0dd02b87afeb6')\n",
      "---------------------------\n",
      "9\n",
      "custom-database-queries-in-wordpress#174e8d95091cb3fc2ef69fb3b25810400fb2d9a6\n",
      "lbrynet get custom-database-queries-in-wordpress#174e8d95091cb3fc2ef69fb3b25810400fb2d9a6\n",
      "waiting ...\n",
      "46.14Mb 50.33Mb 54.53Mb 58.72Mb 65.01Mb "
     ]
    },
    {
     "ename": "KeyboardInterrupt",
     "evalue": "",
     "output_type": "error",
     "traceback": [
      "\u001b[0;31m---------------------------------------------------------------------------\u001b[0m",
      "\u001b[0;31mKeyboardInterrupt\u001b[0m                         Traceback (most recent call last)",
      "\u001b[0;32m<ipython-input-6-97433b5001b9>\u001b[0m in \u001b[0;36m<module>\u001b[0;34m()\u001b[0m\n\u001b[1;32m     32\u001b[0m \u001b[0moutput\u001b[0m\u001b[0;34m,\u001b[0m \u001b[0merror\u001b[0m \u001b[0;34m=\u001b[0m \u001b[0mprocess\u001b[0m\u001b[0;34m.\u001b[0m\u001b[0mcommunicate\u001b[0m\u001b[0;34m(\u001b[0m\u001b[0;34m)\u001b[0m\u001b[0;34m\u001b[0m\u001b[0m\n\u001b[1;32m     33\u001b[0m \u001b[0;32mprint\u001b[0m \u001b[0;34m\"waiting ...\"\u001b[0m\u001b[0;34m\u001b[0m\u001b[0m\n\u001b[0;32m---> 34\u001b[0;31m \u001b[0mtrack_download\u001b[0m\u001b[0;34m(\u001b[0m\u001b[0;34m)\u001b[0m\u001b[0;34m\u001b[0m\u001b[0m\n\u001b[0m",
      "\u001b[0;32m/home/jack/Desktop/lighthouse/Completedpy2.pyc\u001b[0m in \u001b[0;36mtrack_download\u001b[0;34m()\u001b[0m\n\u001b[1;32m     17\u001b[0m         \u001b[0;31m# your script here that collects and writes data (increase file size)\u001b[0m\u001b[0;34m\u001b[0m\u001b[0;34m\u001b[0m\u001b[0m\n\u001b[1;32m     18\u001b[0m         \u001b[0;31m#print(\"%.2f\" % file1_size),\"Mb  \",\u001b[0m\u001b[0;34m\u001b[0m\u001b[0;34m\u001b[0m\u001b[0m\n\u001b[0;32m---> 19\u001b[0;31m         \u001b[0msleep\u001b[0m\u001b[0;34m(\u001b[0m\u001b[0;36m10\u001b[0m\u001b[0;34m)\u001b[0m\u001b[0;34m\u001b[0m\u001b[0m\n\u001b[0m\u001b[1;32m     20\u001b[0m         \u001b[0mfile2\u001b[0m \u001b[0;34m=\u001b[0m \u001b[0mos\u001b[0m\u001b[0;34m.\u001b[0m\u001b[0mstat\u001b[0m\u001b[0;34m(\u001b[0m\u001b[0msrc\u001b[0m\u001b[0;34m)\u001b[0m \u001b[0;31m# updated file size\u001b[0m\u001b[0;34m\u001b[0m\u001b[0m\n\u001b[1;32m     21\u001b[0m \u001b[0;34m\u001b[0m\u001b[0m\n",
      "\u001b[0;31mKeyboardInterrupt\u001b[0m: "
     ]
    }
   ],
   "source": [
    "#%%writefile checkDB\n",
    "#!/usr/bin.python2\n",
    "from Completedpy2 import track_download\n",
    "import subprocess\n",
    "import sqlite3\n",
    "database = 'LBRYDATA.db'\n",
    "conn = sqlite3.connect(database)  \n",
    "c=conn.cursor()\n",
    "search = raw_input(\"SEARCH: \")\n",
    "ID = []\n",
    "cnt=0\n",
    "for row in c.execute('SELECT ROWID, * FROM LBRY'):\n",
    "    if search in row[1] or search in row[2]:\n",
    "        cnt=cnt+1\n",
    "        Cnt=str(cnt)\n",
    "        print Cnt,\"-\",row[0],\":\",row[1],\":\",row[2]\n",
    "        All=Cnt+\"-\",row[0],\":\",row[1],\":\",row[2]\n",
    "        ID.append(All)\n",
    "download = int(raw_input(\"download  number: \"))\n",
    "#print ID[download-1]\n",
    "print \"ID\",ID[download]\n",
    "print \"---------------------------\"\n",
    "ST = str(ID[3])\n",
    "Id = ST.split(\"'\")\n",
    "print len(Id)-2\n",
    "print Id[len(Id)-2]\n",
    "#for item in Id:\n",
    "#    print item\n",
    "bashCommand = \"lbrynet get \"+Id[len(Id)-2]\n",
    "print bashCommand\n",
    "process = subprocess.Popen(bashCommand.split(), stdout=subprocess.PIPE)\n",
    "output, error = process.communicate() \n",
    "print \"waiting ...\"\n",
    "track_download()"
   ]
  },
  {
   "cell_type": "code",
   "execution_count": 5,
   "metadata": {},
   "outputs": [
    {
     "name": "stdout",
     "output_type": "stream",
     "text": [
      "lbrynet search claim id=custom-database-queries-in-wordpress#174e8d95091cb3fc2ef69fb3b25810400fb2d9a6\n"
     ]
    }
   ],
   "source": [
    "import subprocess\n",
    "bashCommand = \"lbrynet search claim id=custom-database-queries-in-wordpress#174e8d95091cb3fc2ef69fb3b25810400fb2d9a6\"\n",
    "print bashCommand\n",
    "process = subprocess.Popen(bashCommand.split(), stdout=subprocess.PIPE)\n",
    "output, error = process.communicate() "
   ]
  },
  {
   "cell_type": "code",
   "execution_count": 4,
   "metadata": {},
   "outputs": [
    {
     "name": "stdout",
     "output_type": "stream",
     "text": [
      "lbrynet search claim 174e8d95091cb3fc2ef69fb3b25810400fb2d9a6\n"
     ]
    }
   ],
   "source": [
    "import subprocess\n",
    "bashCommand = \"lbrynet search claim 174e8d95091cb3fc2ef69fb3b25810400fb2d9a6\"\n",
    "print bashCommand\n",
    "process = subprocess.Popen(bashCommand.split(), stdout=subprocess.PIPE)\n",
    "output, error = process.communicate() "
   ]
  },
  {
   "cell_type": "code",
   "execution_count": 80,
   "metadata": {},
   "outputs": [
    {
     "name": "stdout",
     "output_type": "stream",
     "text": [
      "SEARCH: krita\n",
      "1 - 506 : krita : krita-making-a-meme#80eae62a9966114e837b50845d7340dc36b1edbd\n",
      "2 - 507 : krita : krita-a-new-look#791608167d803b3cb97d6fa5d24cde783355dcb3\n",
      "3 - 508 : krita : animated-scuba-diver-created-with-krita#073f4aba4410ee0cf248b4afb96223b68eea6901\n",
      "4 - 509 : krita : how-to-install-krita-editor-3-2-1-from#de77985e18b91a92ddf96a294452dea3b564b0ca\n",
      "5 - 510 : krita : krita-animation-evolution-weird-video#46cc9fe6df08a4d444504be8008658ca0e327e53\n",
      "6 - 511 : krita : krita-animation-making-a-subscribe#80ed99fb6553c8d613ea0784983aa380296850fe\n",
      "download  number: 3\n",
      "ID ('4-', 509, ':', u'krita', ':', u'how-to-install-krita-editor-3-2-1-from#de77985e18b91a92ddf96a294452dea3b564b0ca')\n",
      "---------------------------\n",
      "9\n",
      "how-to-install-krita-editor-3-2-1-from#de77985e18b91a92ddf96a294452dea3b564b0ca\n",
      "lbrynet get how-to-install-krita-editor-3-2-1-from#de77985e18b91a92ddf96a294452dea3b564b0ca\n"
     ]
    }
   ],
   "source": [
    "#%%writefile checkDB\n",
    "#!/usr/bin.python2\n",
    "import subprocess\n",
    "import sqlite3\n",
    "database = 'LBRYDATA.db'\n",
    "conn = sqlite3.connect(database)  \n",
    "c=conn.cursor()\n",
    "search = raw_input(\"SEARCH: \")\n",
    "ID = []\n",
    "cnt=0\n",
    "for row in c.execute('SELECT ROWID, * FROM LBRY'):\n",
    "    if search in row:\n",
    "        cnt=cnt+1\n",
    "        Cnt=str(cnt)\n",
    "        print Cnt,\"-\",row[0],\":\",row[1],\":\",row[2]\n",
    "        All=Cnt+\"-\",row[0],\":\",row[1],\":\",row[2]\n",
    "        ID.append(All)\n",
    "download = int(raw_input(\"download  number: \"))\n",
    "#print ID[download-1]\n",
    "print \"ID\",ID[download-1]\n",
    "print \"---------------------------\"\n",
    "ST = str(ID[3])\n",
    "Id = ST.split(\"'\")\n",
    "print len(Id)-2\n",
    "print Id[len(Id)-2]\n",
    "#for item in Id:\n",
    "#    print item\n",
    "bashCommand = \"lbrynet get \"+Id[len(Id)-2]\n",
    "print bashCommand\n",
    "process = subprocess.Popen(bashCommand.split(), stdout=subprocess.PIPE)\n",
    "output, error = process.communicate() "
   ]
  },
  {
   "cell_type": "code",
   "execution_count": 79,
   "metadata": {},
   "outputs": [
    {
     "name": "stdout",
     "output_type": "stream",
     "text": [
      "ID ('4-', 39, ':', u'gimp', ':', u'gimp-lesson-1-course-overview#9359be53aebe256ce06249b70d82d19364cc436c')\n",
      "---------------------------\n",
      "9\n",
      "gimp-lesson-1-course-overview#9359be53aebe256ce06249b70d82d19364cc436c\n",
      "lbrynet get gimp-lesson-1-course-overview#9359be53aebe256ce06249b70d82d19364cc436c\n"
     ]
    }
   ],
   "source": [
    "import subprocess\n",
    "print \"ID\",ID[3]\n",
    "print \"---------------------------\"\n",
    "ST = str(ID[3])\n",
    "Id = ST.split(\"'\")\n",
    "print len(Id)-2\n",
    "print Id[len(Id)-2]\n",
    "#for item in Id:\n",
    "#    print item\n",
    "bashCommand = \"lbrynet get \"+Id[len(Id)-2]\n",
    "print bashCommand\n",
    "process = subprocess.Popen(bashCommand.split(), stdout=subprocess.PIPE)\n",
    "output, error = process.communicate()"
   ]
  },
  {
   "cell_type": "code",
   "execution_count": 47,
   "metadata": {},
   "outputs": [
    {
     "name": "stdout",
     "output_type": "stream",
     "text": [
      "{\r\n",
      "  \"added_on\": 1578762481,\r\n",
      "  \"blobs_completed\": 27,\r\n",
      "  \"blobs_in_stream\": 27,\r\n",
      "  \"blobs_remaining\": 0,\r\n",
      "  \"channel_claim_id\": \"d66948527ed2bf54a0e76e2ffe76467cc39e72e4\",\r\n",
      "  \"channel_name\": \"@TotallyInsaneArt\",\r\n",
      "  \"claim_id\": \"b6847ad5de1d9c72ea49a15afbd6436839a1b5c4\",\r\n",
      "  \"claim_name\": \"synfig-studio-kdenlive-create-animated\",\r\n",
      "  \"completed\": true,\r\n",
      "  \"confirmations\": 24897,\r\n",
      "  \"content_fee\": null,\r\n",
      "  \"download_directory\": \"/home/jack/Downloads\",\r\n",
      "  \"download_path\": \"/home/jack/Downloads/synfig-studio-kdenlive-create.mp4\",\r\n",
      "  \"file_name\": \"synfig-studio-kdenlive-create.mp4\",\r\n",
      "  \"height\": 672981,\r\n",
      "  \"key\": \"c7642d1a59841227048beee77425996b\",\r\n",
      "  \"metadata\": {\r\n",
      "    \"description\": \"This tutorial shows how the slide show background was created for the video: \\\"Synfig Studio Kdenlive Video Editor Slideshow Totally Insane Art\\\". It is an easy way to get introduced to Synfig Studio. Usually the best way to learn a piece of software is to try a very simple project. Making a slide show with moving images is a very simple introduction to Synfig Studio. This complete video was created using Open Source Software. Open Source software is free. The software I use is also compatible with Windows, Linux or Mac OS\\n\\nTotally Insane Art uses only Open Source (FREE) software in it's video creations. The most commonly used are Gimp, Krita, Kdenlive, Synfig Studio, and Audacity for the Audio. \\n\\nOn Totally Insane Art you will see many different styles of computer graphics and video editing. Also video effects demos and tutorials. Tutorials on how to create thumbnails, computer graphics, computer art, unique art, image special effects and much more. \\n\\nComputer Specs for Creating  the Videos ( low end )\\nOperating System Ubuntu 18.04.3 LTS  18.04 Bionic Beaver\\nMotherboard: EMX-A55GT-iCafe - Emaxx Technology.,Ltd\\nBIOS:  vendor: American Megatrends Inc.\\nRAM: Ramsta - size: 8GiB - DIMM DDR3 1600 MHz-1600Mhz -4G \\nCPU Dual Core: AMD A4-3400 APU with Radeon(tm) HD Graphics\\nAdvanced Micro Devices [AMD] version: AMD A4-3400 APU with Radeon(tm) HD Graphics size: 2700MHz\\nVideo:  VGA compatible controller - AMD/ATI Sumo [Radeon HD 6410D] \\nusb:1  Draw Pad: Bamboo - product: CTL-460 - Wacom Co.,Ltd.\\nusb:2  Description: Audio product: Logitech USB Headset H340\\nusb:3  Webcam HP 3100\\n...\\nhttps://www.youtube.com/watch?v=CY75DxONpx8\",\r\n",
      "    \"license\": \"Copyrighted (contact publisher)\",\r\n",
      "    \"release_time\": \"1566114196\",\r\n",
      "    \"source\": {\r\n",
      "      \"hash\": \"f44c334a2a33acea88f34ee384a5388c5d57af54b621c4472e6aae3a50a64c9e6f9c2d6335a56f85153d16f66efb3983\",\r\n",
      "      \"media_type\": \"video/mp4\",\r\n",
      "      \"name\": \"synfig-studio-kdenlive-create.mp4\",\r\n",
      "      \"sd_hash\": \"38351251053b52e188eb4ac0c23b5d778f77f1021fe142bfc54dca5d78521025e1bd18e195e645a795c03cb0efae455e\",\r\n",
      "      \"size\": \"55389254\"\r\n",
      "    },\r\n",
      "    \"stream_type\": \"video\",\r\n",
      "    \"tags\": [\r\n",
      "      \"pop culture\",\r\n",
      "      \"technology\",\r\n",
      "      \"animation\",\r\n",
      "      \"audacity\",\r\n",
      "      \"computer art\",\r\n",
      "      \"computer graphics\",\r\n",
      "      \"create animation\",\r\n",
      "      \"create art\",\r\n",
      "      \"create computer art\",\r\n",
      "      \"free imaging software\",\r\n",
      "      \"free video editing software\",\r\n",
      "      \"gimp\",\r\n",
      "      \"graphic examples\",\r\n",
      "      \"graphics\",\r\n",
      "      \"image editing\",\r\n",
      "      \"imaging software\",\r\n",
      "      \"insane art\",\r\n",
      "      \"kdenlive\",\r\n",
      "      \"krita\",\r\n",
      "      \"open source\",\r\n",
      "      \"special effects\",\r\n",
      "      \"synfig studio\",\r\n",
      "      \"totally insane art\",\r\n",
      "      \"unique art\",\r\n",
      "      \"video editing\",\r\n",
      "      \"video editing software\",\r\n",
      "      \"video effects\",\r\n",
      "      \"education\"\r\n",
      "    ],\r\n",
      "    \"thumbnail\": {\r\n",
      "      \"url\": \"https://thumbnails.lbry.com/CY75DxONpx8\"\r\n",
      "    },\r\n",
      "    \"title\": \"Synfig Studio, Kdenlive, Create ANIMATED(Slideshow | Background Image)\",\r\n",
      "    \"video\": {\r\n",
      "      \"duration\": 1058,\r\n",
      "      \"height\": 720,\r\n",
      "      \"width\": 1280\r\n",
      "    }\r\n",
      "  },\r\n",
      "  \"mime_type\": \"video/mp4\",\r\n",
      "  \"nout\": 0,\r\n",
      "  \"outpoint\": \"68c177fa4bb2ce98b57315073c01fea55924db5feadd014852353c7c32d4f1ac:0\",\r\n",
      "  \"points_paid\": 0.0,\r\n",
      "  \"protobuf\": \"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\",\r\n",
      "  \"purchase_receipt\": null,\r\n",
      "  \"sd_hash\": \"38351251053b52e188eb4ac0c23b5d778f77f1021fe142bfc54dca5d78521025e1bd18e195e645a795c03cb0efae455e\",\r\n",
      "  \"status\": \"running\",\r\n",
      "  \"stopped\": false,\r\n",
      "  \"stream_hash\": \"8523a0fc0a628ee8ce1cfc3852ae1739ffd1642a4d424a83f8dfb7713221ab5b9fb2e5e3e5d8c0c0e3fd789ac1b8a79f\",\r\n",
      "  \"stream_name\": \"synfig-studio-kdenlive-create.mp4\",\r\n",
      "  \"streaming_url\": \"http://localhost:5280/stream/38351251053b52e188eb4ac0c23b5d778f77f1021fe142bfc54dca5d78521025e1bd18e195e645a795c03cb0efae455e\",\r\n",
      "  \"suggested_file_name\": \"synfig-studio-kdenlive-create.mp4\",\r\n",
      "  \"timestamp\": 1574803895,\r\n",
      "  \"total_bytes\": 55389270,\r\n",
      "  \"total_bytes_lower_bound\": 55389254,\r\n",
      "  \"txid\": \"68c177fa4bb2ce98b57315073c01fea55924db5feadd014852353c7c32d4f1ac\",\r\n",
      "  \"written_bytes\": 55389254\r\n",
      "}\r\n"
     ]
    }
   ],
   "source": [
    "!lbrynet get synfig-studio-kdenlive-create-animated#b6847ad5de1d9c72ea49a15afbd6436839a1b5c4"
   ]
  },
  {
   "cell_type": "code",
   "execution_count": null,
   "metadata": {},
   "outputs": [],
   "source": []
  }
 ],
 "metadata": {
  "kernelspec": {
   "display_name": "Python2",
   "language": "python",
   "name": "python2"
  },
  "language_info": {
   "codemirror_mode": {
    "name": "ipython",
    "version": 2
   },
   "file_extension": ".py",
   "mimetype": "text/x-python",
   "name": "python",
   "nbconvert_exporter": "python",
   "pygments_lexer": "ipython2",
   "version": "2.7.15rc1"
  },
  "toc": {
   "base_numbering": 1,
   "nav_menu": {},
   "number_sections": true,
   "sideBar": true,
   "skip_h1_title": false,
   "title_cell": "Table of Contents",
   "title_sidebar": "Contents",
   "toc_cell": false,
   "toc_position": {},
   "toc_section_display": true,
   "toc_window_display": false
  }
 },
 "nbformat": 4,
 "nbformat_minor": 2
}
