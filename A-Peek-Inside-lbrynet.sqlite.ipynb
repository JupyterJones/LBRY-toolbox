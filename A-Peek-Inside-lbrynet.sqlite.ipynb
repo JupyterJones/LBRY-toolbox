{
 "cells": [
  {
   "cell_type": "markdown",
   "metadata": {},
   "source": [
    "# what is in /home/jack/.local/share/lbry/lbrynet/lbrynet.sqlite"
   ]
  },
  {
   "cell_type": "code",
   "execution_count": 24,
   "metadata": {},
   "outputs": [
    {
     "name": "stdout",
     "output_type": "stream",
     "text": [
      "Table:  blob\n"
     ]
    },
    {
     "data": {
      "text/plain": [
       "('COLUMNS :',\n",
       " ['blob_hash',\n",
       "  'blob_length',\n",
       "  'next_announce_time',\n",
       "  'should_announce',\n",
       "  'status',\n",
       "  'last_announced_time',\n",
       "  'single_announce'])"
      ]
     },
     "execution_count": 24,
     "metadata": {},
     "output_type": "execute_result"
    }
   ],
   "source": [
    "import sqlite3\n",
    "def dbinfo(database):\n",
    "    conn = sqlite3.connect(database)\n",
    "    conn.text_factory = str\n",
    "    c = conn.cursor()\n",
    "    res = c.execute(\"SELECT name FROM sqlite_master WHERE type='table';\")\n",
    "    row = c.fetchone()\n",
    "    row = str(row)\n",
    "    row = row.replace(\"(\",\"\");row = row.replace(\",)\",\"\")\n",
    "    row = row.replace(\"'\",\"\")\n",
    "    print \"Table: \",row\n",
    "    cur = c.execute(\"select * from '%s'\" %  row)\n",
    "    columns = [description[0] for description in cur.description]\n",
    "    return \"COLUMNS :\",columns\n",
    "\n",
    "# if run directly\n",
    "database=\"/home/jack/.local/share/lbry/lbrynet/lbrynet.sqlite\"\n",
    "dbinfo(database)\n"
   ]
  },
  {
   "cell_type": "markdown",
   "metadata": {},
   "source": [
    "# So now lets look inside."
   ]
  },
  {
   "cell_type": "code",
   "execution_count": 17,
   "metadata": {},
   "outputs": [
    {
     "name": "stdout",
     "output_type": "stream",
     "text": [
      "------------- ROWiD : 1 ---------------\n",
      "\n",
      "blob_hash : 8cdd4c4511ca718ba982c1a17a0031cd07f0901707b3c475fabd1f2872dc4cca336dcdc2f80cbe30d36c6317a95fabcc\n",
      "blob_length : 632\n",
      "next_announce_time : 1580443841\n",
      "should_announce : 1\n",
      "status : finished\n",
      "last_announced_time : 1580400641\n",
      "single_announce : 0\n",
      "---------------------------------------\n",
      "\n",
      "------------- ROWiD : 2 ---------------\n",
      "\n",
      "blob_hash : 08f64f625ca3c39152d0e92ae9a69a7f62b3a9de0404c206fe3833364df1e320d5460c2984ebbe532a5d9b13e6775759\n",
      "blob_length : 132384\n",
      "next_announce_time : 1580444272\n",
      "should_announce : 1\n",
      "status : finished\n",
      "last_announced_time : 1580401072\n",
      "single_announce : 0\n",
      "---------------------------------------\n",
      "\n",
      "------------- ROWiD : 3 ---------------\n",
      "\n",
      "blob_hash : cde307d32f00b012a05e318f30121b3161730641b3de269aa6b75b42f4984f76c169223ba9260db8c1e67f27c0425368\n",
      "blob_length : 595\n",
      "next_announce_time : 1580443723\n",
      "should_announce : 1\n",
      "status : finished\n",
      "last_announced_time : 1580400523\n",
      "single_announce : 0\n",
      "---------------------------------------\n",
      "\n",
      "------------- ROWiD : 4 ---------------\n",
      "\n",
      "blob_hash : 6ad627ebef905260a0f55b041fd3387e87be77ba76eaf5dfaa67656e104015006cd9493707d9302babd54cf9f71a95f4\n",
      "blob_length : 96864\n",
      "next_announce_time : 1580444092\n",
      "should_announce : 1\n",
      "status : finished\n",
      "last_announced_time : 1580400892\n",
      "single_announce : 0\n",
      "---------------------------------------\n",
      "\n"
     ]
    }
   ],
   "source": [
    "import sqlite3\n",
    "# Define a function\n",
    "def peek_in(database):\n",
    "    cnt=0\n",
    "    # connect to a database\n",
    "    conn = sqlite3.connect(database)\n",
    "    # FYI - In this case 'text_factory' not required I use it from habit\n",
    "    # By default \"conn\" is set to unicode and the sqlite3 module will return Unicode objects for TEXT\n",
    "    # If you use \"text_factory = st\". it returns bytestrings instead.\n",
    "    conn.text_factory = str\n",
    "    c = conn.cursor()\n",
    "    for res in c.execute(\"SELECT ROWID,* FROM blob;\"):\n",
    "        cnt=cnt+1\n",
    "        if cnt<5:\n",
    "            print\"------------- ROWiD :\",res[0],\"---------------\\n\"\n",
    "            print 'blob_hash :',res[1]\n",
    "            print 'blob_length :',res[2]\n",
    "            print 'next_announce_time :',res[3]\n",
    "            print 'should_announce :',res[4]\n",
    "            print 'status :',res[5]\n",
    "            print 'last_announced_time :',res[6]\n",
    "            print 'single_announce :',res[7]\n",
    "            print \"---------------------------------------\\n\"\n",
    "        \n",
    "database=\"/home/jack/.local/share/lbry/lbrynet/lbrynet.sqlite\"    \n",
    "peek_in(database)    \n",
    "    "
   ]
  },
  {
   "cell_type": "code",
   "execution_count": null,
   "metadata": {},
   "outputs": [],
   "source": []
  }
 ],
 "metadata": {
  "kernelspec": {
   "display_name": "Python2",
   "language": "python",
   "name": "python2"
  },
  "language_info": {
   "codemirror_mode": {
    "name": "ipython",
    "version": 2
   },
   "file_extension": ".py",
   "mimetype": "text/x-python",
   "name": "python",
   "nbconvert_exporter": "python",
   "pygments_lexer": "ipython2",
   "version": "2.7.15rc1"
  },
  "toc": {
   "base_numbering": 1,
   "nav_menu": {},
   "number_sections": true,
   "sideBar": true,
   "skip_h1_title": false,
   "title_cell": "Table of Contents",
   "title_sidebar": "Contents",
   "toc_cell": false,
   "toc_position": {},
   "toc_section_display": true,
   "toc_window_display": false
  }
 },
 "nbformat": 4,
 "nbformat_minor": 2
}
