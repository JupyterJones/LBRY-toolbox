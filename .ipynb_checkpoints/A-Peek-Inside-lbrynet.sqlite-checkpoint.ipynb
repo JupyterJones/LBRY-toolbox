{
 "cells": [
  {
   "cell_type": "code",
   "execution_count": 1,
   "metadata": {},
   "outputs": [
    {
     "name": "stdout",
     "output_type": "stream",
     "text": [
      "/home/jack/.local/share/lbry/lbrynet/lbrynet.sqlite\r\n"
     ]
    }
   ],
   "source": [
    "!ls /home/jack/.local/share/lbry/lbrynet/lbrynet.sqlite"
   ]
  },
  {
   "cell_type": "markdown",
   "metadata": {},
   "source": [
    "# what is in /home/jack/.local/share/lbry/lbrynet/lbrynet.sqlite"
   ]
  },
  {
   "cell_type": "code",
   "execution_count": 3,
   "metadata": {},
   "outputs": [
    {
     "name": "stdout",
     "output_type": "stream",
     "text": [
      "Table:  blob\n"
     ]
    },
    {
     "data": {
      "text/plain": [
       "('COLUMNS :',\n",
       " ['blob_hash',\n",
       "  'blob_length',\n",
       "  'next_announce_time',\n",
       "  'should_announce',\n",
       "  'status',\n",
       "  'last_announced_time',\n",
       "  'single_announce'])"
      ]
     },
     "execution_count": 3,
     "metadata": {},
     "output_type": "execute_result"
    }
   ],
   "source": [
    "import sqlite3\n",
    "def dbinfo(database):\n",
    "    conn = sqlite3.connect(database)\n",
    "    conn.text_factory = str\n",
    "    c = conn.cursor()\n",
    "    res = c.execute(\"SELECT name FROM sqlite_master WHERE type='table';\")\n",
    "    row = c.fetchone()\n",
    "    row = str(row)\n",
    "    row = row.replace(\"(\",\"\");row = row.replace(\",)\",\"\")\n",
    "    row = row.replace(\"'\",\"\")\n",
    "    print (\"Table: \",row)\n",
    "    cur = c.execute(\"select * from '%s'\" %  row)\n",
    "    columns = [description[0] for description in cur.description]\n",
    "    return \"COLUMNS :\",columns\n",
    "\n",
    "# if run directly\n",
    "database=\"/home/jack/.local/share/lbry/lbrynet/lbrynet.sqlite\"\n",
    "dbinfo(database)\n"
   ]
  },
  {
   "cell_type": "markdown",
   "metadata": {},
   "source": [
    "# So now lets look inside."
   ]
  },
  {
   "cell_type": "code",
   "execution_count": 6,
   "metadata": {},
   "outputs": [
    {
     "name": "stdout",
     "output_type": "stream",
     "text": [
      "------------- ROWiD : 1 ---------------\n",
      "\n",
      "blob_hash : d31319d91e79a840786aa7cfe6a131edfc54ba2fb15ee65fe5bb5b2acd3e5884256e0928e219824d945e0860bef765f9\n",
      "blob_length : 1596\n",
      "next_announce_time : 1581769034\n",
      "should_announce : 1\n",
      "status : finished\n",
      "last_announced_time : 1581725834\n",
      "single_announce : 0\n",
      "---------------------------------------\n",
      "\n",
      "------------- ROWiD : 2 ---------------\n",
      "\n",
      "blob_hash : f91ebf60c1bd032f08b3835f6f122f7c3d76fbed17037250dc5665d6040c53457b675c2c2cc1a7a3bd107debd0c283c2\n",
      "blob_length : 2097152\n",
      "next_announce_time : 1581769357\n",
      "should_announce : 1\n",
      "status : finished\n",
      "last_announced_time : 1581726157\n",
      "single_announce : 0\n",
      "---------------------------------------\n",
      "\n",
      "------------- ROWiD : 3 ---------------\n",
      "\n",
      "blob_hash : b8658ff4a3b5feff9f628553ce45bc131462706bc3835c6b85b11aaf0b418854f169610028d000752451249e95415c0d\n",
      "blob_length : 2097152\n",
      "next_announce_time : 0\n",
      "should_announce : 0\n",
      "status : finished\n",
      "last_announced_time : 0\n",
      "single_announce : 0\n",
      "---------------------------------------\n",
      "\n",
      "------------- ROWiD : 4 ---------------\n",
      "\n",
      "blob_hash : b394de2cc324bd41c1fc751a367ec8b68262acd80f36066e3524b15ea8ca7afdf5872b8fa473af2d2d15979d024463d5\n",
      "blob_length : 2097152\n",
      "next_announce_time : 0\n",
      "should_announce : 0\n",
      "status : finished\n",
      "last_announced_time : 0\n",
      "single_announce : 0\n",
      "---------------------------------------\n",
      "\n"
     ]
    }
   ],
   "source": [
    "import sqlite3\n",
    "# Define a function\n",
    "def peek_in(database):\n",
    "    cnt=0\n",
    "    # connect to a database\n",
    "    conn = sqlite3.connect(database)\n",
    "    # FYI - In this case 'text_factory' not required I use it from habit\n",
    "    # By default \"conn\" is set to unicode and the sqlite3 module will return Unicode objects for TEXT\n",
    "    # If you use \"text_factory = st\". it returns bytestrings instead.\n",
    "    conn.text_factory = str\n",
    "    c = conn.cursor()\n",
    "    for res in c.execute(\"SELECT ROWID,* FROM blob;\"):\n",
    "        cnt=cnt+1\n",
    "        if cnt<5:\n",
    "            print (\"------------- ROWiD :\",res[0],\"---------------\\n\")\n",
    "            print ('blob_hash :',res[1])\n",
    "            print ('blob_length :',res[2])\n",
    "            print ('next_announce_time :',res[3])\n",
    "            print ('should_announce :',res[4])\n",
    "            print ('status :',res[5])\n",
    "            print ('last_announced_time :',res[6])\n",
    "            print ('single_announce :',res[7])\n",
    "            print (\"---------------------------------------\\n\")\n",
    "        \n",
    "database=\"/home/jack/.local/share/lbry/lbrynet/lbrynet.sqlite\"    \n",
    "peek_in(database)    \n",
    "    "
   ]
  },
  {
   "cell_type": "code",
   "execution_count": null,
   "metadata": {},
   "outputs": [],
   "source": []
  }
 ],
 "metadata": {
  "kernelspec": {
   "display_name": "Python 3",
   "language": "python",
   "name": "python3"
  },
  "language_info": {
   "codemirror_mode": {
    "name": "ipython",
    "version": 3
   },
   "file_extension": ".py",
   "mimetype": "text/x-python",
   "name": "python",
   "nbconvert_exporter": "python",
   "pygments_lexer": "ipython3",
   "version": "3.7.0"
  },
  "toc": {
   "base_numbering": 1,
   "nav_menu": {},
   "number_sections": true,
   "sideBar": true,
   "skip_h1_title": false,
   "title_cell": "Table of Contents",
   "title_sidebar": "Contents",
   "toc_cell": false,
   "toc_position": {},
   "toc_section_display": true,
   "toc_window_display": false
  }
 },
 "nbformat": 4,
 "nbformat_minor": 2
}
