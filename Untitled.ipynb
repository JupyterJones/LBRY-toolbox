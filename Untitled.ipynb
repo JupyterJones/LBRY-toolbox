{
 "cells": [
  {
   "cell_type": "code",
   "execution_count": 1,
   "metadata": {},
   "outputs": [
    {
     "name": "stdout",
     "output_type": "stream",
     "text": [
      "how-to-use-kdenlive-video.mp4\t  node-v10.0.0-linux-x64.tar.xz\r\n",
      "javascript-tutorial-sorting.mp4   Python-3.7.0.tar.xz\r\n",
      "javascript-tutorial-sortingS.mp4  rental-income-new-service-item.mp4\r\n",
      "node-v10.0.0-linux-x64\r\n"
     ]
    }
   ],
   "source": [
    "!ls /home/jack/Downloads"
   ]
  },
  {
   "cell_type": "code",
   "execution_count": null,
   "metadata": {},
   "outputs": [],
   "source": []
  },
  {
   "cell_type": "code",
   "execution_count": 12,
   "metadata": {},
   "outputs": [
    {
     "name": "stdout",
     "output_type": "stream",
     "text": [
      "SEARCH : new\n",
      "1 new-boardgames#fd0c5ca7a8768936fdffc197943dcf9387a14f1e\n",
      "2 new-angal#1f8f0be4931dd0a1e628879b5318fe1034fc129f\n",
      "3 new-year-new-changes#c4773280a4bbc82b6c8134fefe2de5014a32b23d\n",
      "4 steam-lunar-new-year-sale-2020-new-lows#022ca98c0506c89cd793368516a4775f83512242\n",
      "5 new-year-new-format#0aeb6888bdba3a6fa7eadb916817ffb14a03b108\n",
      "6 new-born#c45a942f34d3312f70d4a1176a64ecbe91482003\n",
      "7 rental-income-new-service-item-new#25be251a20286034b65362f57d84e3e84bfb47f4\n",
      "8 new-wedding-car#dfd53f6c95a9c7b766ede6d6ea5c6b77e96e2dab\n",
      "9 new-trainer-boy-#b770dd1d6331dfb2a538e003f98217f0a79f3f64\n",
      "10 What-is-NEW-COLLAR-WORKER#63e7180c3e21b877786e0e67d3b8fb6ded77262b\n"
     ]
    }
   ],
   "source": [
    "import os\n",
    "from time import sleep\n",
    "import urllib, json\n",
    "import urllib.request\n",
    "import requests\n",
    "import sys\n",
    "import subprocess\n",
    "from Completed import track_download\n",
    "import sqlite3\n",
    "import watchVID\n",
    "database = 'LBRYDATA.db'\n",
    "conn = sqlite3.connect(database)\n",
    "sql = '''create table if not exists LBRY(\n",
    "KEYWORDS TEXT, DATA TEXT, unique (DATA));'''\n",
    "conn.execute(sql) # shortcut for conn.cursor().execute(sql)\n",
    "conn.commit()\n",
    "c=conn.cursor()\n",
    "search=input(\"SEARCH : \")\n",
    "url = \"https://lighthouse.lbry.com/search?s=\"+search\n",
    "response = urllib.request.urlopen(url)\n",
    "data = json.loads(response.read())\n",
    "cnt=0\n",
    "LIST =[]\n",
    "for line in data:\n",
    "    cnt=cnt+1\n",
    "    line = str(line)\n",
    "    line =line.replace(\"u'\",\"\");line =line.replace(\"{claimId': \",\"\")\n",
    "    line =line.replace(\"', name':\",\"\");line =line.replace(\"}\",\"\")\n",
    "    line =line.replace(\",\",\"\");line =line.replace(\"'\",\"\")\n",
    "    #line =line[:-1]\n",
    "    #print (line)\n",
    "    line=line.split(\" \")\n",
    "    print (cnt,line[3]+\"#\"+line[1])\n",
    "    LIST.append(line[3]+\"#\"+line[1])\n",
    "    content=line[3]+\"#\"+line[1]"
   ]
  },
  {
   "cell_type": "code",
   "execution_count": 26,
   "metadata": {},
   "outputs": [
    {
     "name": "stdout",
     "output_type": "stream",
     "text": [
      "{\r\n",
      "  \"added_on\": 1581488172,\r\n",
      "  \"blobs_completed\": 6,\r\n",
      "  \"blobs_in_stream\": 6,\r\n",
      "  \"blobs_remaining\": 0,\r\n",
      "  \"channel_claim_id\": \"a5b1f83fcb17b60f1d99d84af8fc2bca79117f9c\",\r\n",
      "  \"channel_name\": null,\r\n",
      "  \"claim_id\": \"25be251a20286034b65362f57d84e3e84bfb47f4\",\r\n",
      "  \"claim_name\": \"rental-income-new-service-item-new\",\r\n",
      "  \"completed\": true,\r\n",
      "  \"confirmations\": 11063,\r\n",
      "  \"content_fee\": null,\r\n",
      "  \"download_directory\": \"/home/jack/Downloads\",\r\n",
      "  \"download_path\": \"/home/jack/Downloads/rental-income-new-service-item.mp4\",\r\n",
      "  \"file_name\": \"rental-income-new-service-item.mp4\",\r\n",
      "  \"height\": 703689,\r\n",
      "  \"key\": \"5f094e50ca3bb11ad2eae1c9e71600a1\",\r\n",
      "  \"metadata\": {\r\n",
      "    \"description\": \"Rental Income New Service Item New Income Account\\nQuickBooks Online\\nhttps://accountinginstruction.thinkific.com/\\n...\\nhttps://www.youtube.com/watch?v=9J_yJCYCPMA\",\r\n",
      "    \"license\": \"Copyrighted (contact publisher)\",\r\n",
      "    \"release_time\": \"1579567510\",\r\n",
      "    \"source\": {\r\n",
      "      \"hash\": \"6f0ea6683ef8cc50e96ea60f697217a49691d97becd06a9543a7ac546c1b123f8a1723977d8ee6d85a20e7043d2c4642\",\r\n",
      "      \"media_type\": \"video/mp4\",\r\n",
      "      \"name\": \"rental-income-new-service-item.mp4\",\r\n",
      "      \"sd_hash\": \"d31319d91e79a840786aa7cfe6a131edfc54ba2fb15ee65fe5bb5b2acd3e5884256e0928e219824d945e0860bef765f9\",\r\n",
      "      \"size\": \"12194683\"\r\n",
      "    },\r\n",
      "    \"stream_type\": \"video\",\r\n",
      "    \"tags\": [\r\n",
      "      \"quickbooks online\",\r\n",
      "      \"rental income new service item new income account\",\r\n",
      "      \"education\"\r\n",
      "    ],\r\n",
      "    \"thumbnail\": {\r\n",
      "      \"url\": \"https://thumbnails.lbry.com/9J_yJCYCPMA\"\r\n",
      "    },\r\n",
      "    \"title\": \"Rental Income New Service Item New Income Account 8.90 QuickBooks Online\",\r\n",
      "    \"video\": {\r\n",
      "      \"duration\": 528,\r\n",
      "      \"height\": 480,\r\n",
      "      \"width\": 854\r\n",
      "    }\r\n",
      "  },\r\n",
      "  \"mime_type\": \"video/mp4\",\r\n",
      "  \"nout\": 0,\r\n",
      "  \"outpoint\": \"91b7cb578ec4069093e5327b468f3f1ab8b06a5d5bd03aaa3ec805819958e3fe:0\",\r\n",
      "  \"points_paid\": 0.0,\r\n",
      "  \"protobuf\": \"019c7f1179ca2bfcf84ad8991d0fb617cb3ff8b1a51da8f8455138019f800fcde21a0e60dc40fca8951f52afbad3b492bf84b1525d43c2c8e784baad123d330a1be85ebc86fe8112e0377a79b07470d8f28f0570180acd010a98010a306f0ea6683ef8cc50e96ea60f697217a49691d97becd06a9543a7ac546c1b123f8a1723977d8ee6d85a20e7043d2c4642122272656e74616c2d696e636f6d652d6e65772d736572766963652d6974656d2e6d703418fba6e8052209766964656f2f6d70343230d31319d91e79a840786aa7cfe6a131edfc54ba2fb15ee65fe5bb5b2acd3e5884256e0928e219824d945e0860bef765f91a1f436f7079726967687465642028636f6e74616374207075626c69736865722928969399f1055a0908d60610e003189004424852656e74616c20496e636f6d65204e65772053657276696365204974656d204e657720496e636f6d65204163636f756e7420382e393020517569636b426f6f6b73204f6e6c696e654aa00152656e74616c20496e636f6d65204e65772053657276696365204974656d204e657720496e636f6d65204163636f756e740a517569636b426f6f6b73204f6e6c696e650a68747470733a2f2f6163636f756e74696e67696e737472756374696f6e2e7468696e6b696669632e636f6d2f0a2e2e2e0a68747470733a2f2f7777772e796f75747562652e636f6d2f77617463683f763d394a5f794a435943504d4152292a2768747470733a2f2f7468756d626e61696c732e6c6272792e636f6d2f394a5f794a435943504d415a11717569636b626f6f6b73206f6e6c696e655a3172656e74616c20696e636f6d65206e65772073657276696365206974656d206e657720696e636f6d65206163636f756e745a09656475636174696f6e\",\r\n",
      "  \"purchase_receipt\": null,\r\n",
      "  \"sd_hash\": \"d31319d91e79a840786aa7cfe6a131edfc54ba2fb15ee65fe5bb5b2acd3e5884256e0928e219824d945e0860bef765f9\",\r\n",
      "  \"status\": \"running\",\r\n",
      "  \"stopped\": false,\r\n",
      "  \"stream_hash\": \"2238653ed4076633f06f173b073a4b46d13d6c68d09ad5058d14209b7a18705fbc7c2180eb0728881ebbc432aaf0bbb9\",\r\n",
      "  \"stream_name\": \"rental-income-new-service-item.mp4\",\r\n",
      "  \"streaming_url\": \"http://localhost:5280/stream/d31319d91e79a840786aa7cfe6a131edfc54ba2fb15ee65fe5bb5b2acd3e5884256e0928e219824d945e0860bef765f9\",\r\n",
      "  \"suggested_file_name\": \"rental-income-new-service-item.mp4\",\r\n",
      "  \"timestamp\": 1579718716,\r\n",
      "  \"total_bytes\": 12194699,\r\n",
      "  \"total_bytes_lower_bound\": 12194683,\r\n",
      "  \"txid\": \"91b7cb578ec4069093e5327b468f3f1ab8b06a5d5bd03aaa3ec805819958e3fe\",\r\n",
      "  \"written_bytes\": 12194683\r\n",
      "}\r\n"
     ]
    }
   ],
   "source": [
    "!lbrynet get rental-income-new-service-item-new#25be251a20286034b65362f57d84e3e84bfb47f4\n"
   ]
  },
  {
   "cell_type": "code",
   "execution_count": 32,
   "metadata": {},
   "outputs": [
    {
     "name": "stdout",
     "output_type": "stream",
     "text": [
      "total 55780\r\n",
      "drwxrwxr-x  6 1000 1000     4096 Apr 24  2018 node-v10.0.0-linux-x64\r\n",
      "-rw-rw-r--  1 1000 1000 11960408 Apr 24  2018 node-v10.0.0-linux-x64.tar.xz\r\n",
      "-rw-rw-r--  1 1000 1000 16922100 Jun 27  2018 Python-3.7.0.tar.xz\r\n",
      "drwxr-xr-x 22 1000 1000     4096 Feb 12 01:03 ..\r\n",
      "-rw-r--r--  1    0    0 12194683 Feb 12 01:16 rental-income-new-service-item.mp4\r\n",
      "drwxrwxr-x  3 1000 1000     4096 Feb 12 01:26 .\r\n",
      "-rw-r--r--  1    0    0 16019186 Feb 12 01:26 javascript-tutorial-sorting.mp4\r\n"
     ]
    }
   ],
   "source": [
    "!ls -rant /home/jack/Downloads"
   ]
  },
  {
   "cell_type": "code",
   "execution_count": 36,
   "metadata": {},
   "outputs": [
    {
     "name": "stdout",
     "output_type": "stream",
     "text": [
      "ffmpeg version 2.8.15-0ubuntu0.16.04.1 Copyright (c) 2000-2018 the FFmpeg developers\n",
      "  built with gcc 5.4.0 (Ubuntu 5.4.0-6ubuntu1~16.04.10) 20160609\n",
      "  configuration: --prefix=/usr --extra-version=0ubuntu0.16.04.1 --build-suffix=-ffmpeg --toolchain=hardened --libdir=/usr/lib/x86_64-linux-gnu --incdir=/usr/include/x86_64-linux-gnu --cc=cc --cxx=g++ --enable-gpl --enable-shared --disable-stripping --disable-decoder=libopenjpeg --disable-decoder=libschroedinger --enable-avresample --enable-avisynth --enable-gnutls --enable-ladspa --enable-libass --enable-libbluray --enable-libbs2b --enable-libcaca --enable-libcdio --enable-libflite --enable-libfontconfig --enable-libfreetype --enable-libfribidi --enable-libgme --enable-libgsm --enable-libmodplug --enable-libmp3lame --enable-libopenjpeg --enable-libopus --enable-libpulse --enable-librtmp --enable-libschroedinger --enable-libshine --enable-libsnappy --enable-libsoxr --enable-libspeex --enable-libssh --enable-libtheora --enable-libtwolame --enable-libvorbis --enable-libvpx --enable-libwavpack --enable-libwebp --enable-libx265 --enable-libxvid --enable-libzvbi --enable-openal --enable-opengl --enable-x11grab --enable-libdc1394 --enable-libiec61883 --enable-libzmq --enable-frei0r --enable-libx264 --enable-libopencv\n",
      "  libavutil      54. 31.100 / 54. 31.100\n",
      "  libavcodec     56. 60.100 / 56. 60.100\n",
      "  libavformat    56. 40.101 / 56. 40.101\n",
      "  libavdevice    56.  4.100 / 56.  4.100\n",
      "  libavfilter     5. 40.101 /  5. 40.101\n",
      "  libavresample   2.  1.  0 /  2.  1.  0\n",
      "  libswscale      3.  1.101 /  3.  1.101\n",
      "  libswresample   1.  2.101 /  1.  2.101\n",
      "  libpostproc    53.  3.100 / 53.  3.100\n",
      "Input #0, mov,mp4,m4a,3gp,3g2,mj2, from '/home/jack/Downloads/javascript-tutorial-sorting.mp4':\n",
      "  Metadata:\n",
      "    major_brand     : isom\n",
      "    minor_version   : 512\n",
      "    compatible_brands: isomiso2avc1mp41\n",
      "    encoder         : Lavf57.83.100\n",
      "  Duration: 00:06:57.94, start: 0.000000, bitrate: 306 kb/s\n",
      "    Stream #0:0(und): Video: h264 (Main) (avc1 / 0x31637661), yuv420p(tv, bt709), 1280x720 [SAR 1:1 DAR 16:9], 171 kb/s, 30 fps, 30 tbr, 90k tbn, 60 tbc (default)\n",
      "    Metadata:\n",
      "      handler_name    : VideoHandler\n",
      "    Stream #0:1(eng): Audio: aac (LC) (mp4a / 0x6134706D), 44100 Hz, stereo, fltp, 128 kb/s (default)\n",
      "    Metadata:\n",
      "      handler_name    : SoundHandler\n",
      "\u001b[1;36m[libx264 @ 0x20412a0] \u001b[0musing SAR=1/1\n",
      "\u001b[1;36m[libx264 @ 0x20412a0] \u001b[0musing cpu capabilities: MMX2 SSE2Fast SSSE3 SSE4.2\n",
      "\u001b[1;36m[libx264 @ 0x20412a0] \u001b[0mprofile High, level 3.0\n",
      "\u001b[1;36m[libx264 @ 0x20412a0] \u001b[0m264 - core 148 r2643 5c65704 - H.264/MPEG-4 AVC codec - Copyleft 2003-2015 - http://www.videolan.org/x264.html - options: cabac=1 ref=3 deblock=1:0:0 analyse=0x3:0x113 me=hex subme=7 psy=1 psy_rd=1.00:0.00 mixed_ref=1 me_range=16 chroma_me=1 trellis=1 8x8dct=1 cqm=0 deadzone=21,11 fast_pskip=1 chroma_qp_offset=-2 threads=6 lookahead_threads=1 sliced_threads=0 nr=0 decimate=1 interlaced=0 bluray_compat=0 constrained_intra=0 bframes=3 b_pyramid=2 b_adapt=1 b_bias=0 direct=1 weightb=1 open_gop=0 weightp=2 keyint=250 keyint_min=25 scenecut=40 intra_refresh=0 rc_lookahead=40 rc=crf mbtree=1 crf=23.0 qcomp=0.60 qpmin=0 qpmax=69 qpstep=4 ip_ratio=1.40 aq=1:1.00\n",
      "Output #0, mp4, to '/home/jack/Downloads/javascript-tutorial-sortingS.mp4':\n",
      "  Metadata:\n",
      "    major_brand     : isom\n",
      "    minor_version   : 512\n",
      "    compatible_brands: isomiso2avc1mp41\n",
      "    encoder         : Lavf56.40.101\n",
      "    Stream #0:0(und): Video: h264 (libx264) ([33][0][0][0] / 0x0021), yuv420p, 640x360 [SAR 1:1 DAR 16:9], q=-1--1, 30 fps, 15360 tbn, 30 tbc (default)\n",
      "    Metadata:\n",
      "      handler_name    : VideoHandler\n",
      "      encoder         : Lavc56.60.100 libx264\n",
      "    Stream #0:1(eng): Audio: aac ([64][0][0][0] / 0x0040), 44100 Hz, stereo, fltp, 128 kb/s (default)\n",
      "    Metadata:\n",
      "      handler_name    : SoundHandler\n",
      "      encoder         : Lavc56.60.100 aac\n",
      "Stream mapping:\n",
      "  Stream #0:0 -> #0:0 (h264 (native) -> h264 (libx264))\n",
      "  Stream #0:1 -> #0:1 (aac (native) -> aac (native))\n",
      "Press [q] to stop, [?] for help\n",
      "frame=12536 fps=140 q=-1.0 Lsize=   10173kB time=00:06:57.93 bitrate= 199.4kbits/s    \n",
      "video:2777kB audio:6953kB subtitle:0kB other streams:0kB global headers:0kB muxing overhead: 4.563338%\n",
      "\u001b[1;36m[libx264 @ 0x20412a0] \u001b[0mframe I:51    Avg QP:15.88  size: 21485\n",
      "\u001b[1;36m[libx264 @ 0x20412a0] \u001b[0mframe P:3266  Avg QP:19.86  size:   406\n",
      "\u001b[1;36m[libx264 @ 0x20412a0] \u001b[0mframe B:9219  Avg QP:23.50  size:    46\n",
      "\u001b[1;36m[libx264 @ 0x20412a0] \u001b[0mconsecutive B-frames:  1.9%  0.1%  0.2% 97.8%\n",
      "\u001b[1;36m[libx264 @ 0x20412a0] \u001b[0mmb I  I16..4: 31.9% 26.1% 42.0%\n",
      "\u001b[1;36m[libx264 @ 0x20412a0] \u001b[0mmb P  I16..4:  0.3%  0.2%  0.2%  P16..4:  2.2%  1.0%  0.6%  0.0%  0.0%    skip:95.5%\n",
      "\u001b[1;36m[libx264 @ 0x20412a0] \u001b[0mmb B  I16..4:  0.0%  0.0%  0.0%  B16..8:  1.4%  0.1%  0.0%  direct: 0.0%  skip:98.4%  L0:42.0% L1:54.3% BI: 3.7%\n",
      "\u001b[1;36m[libx264 @ 0x20412a0] \u001b[0m8x8 transform intra:30.0% inter:47.4%\n",
      "\u001b[1;36m[libx264 @ 0x20412a0] \u001b[0mcoded y,uvDC,uvAC intra: 31.1% 26.7% 19.6% inter: 0.4% 0.4% 0.0%\n",
      "\u001b[1;36m[libx264 @ 0x20412a0] \u001b[0mi16 v,h,dc,p: 44% 52%  1%  2%\n",
      "\u001b[1;36m[libx264 @ 0x20412a0] \u001b[0mi8 v,h,dc,ddl,ddr,vr,hd,vl,hu: 44% 18% 33%  0%  1%  1%  2%  1%  1%\n",
      "\u001b[1;36m[libx264 @ 0x20412a0] \u001b[0mi4 v,h,dc,ddl,ddr,vr,hd,vl,hu: 32% 38% 10%  2%  3%  4%  4%  2%  4%\n",
      "\u001b[1;36m[libx264 @ 0x20412a0] \u001b[0mi8c dc,h,v,p: 66% 25%  8%  1%\n",
      "\u001b[1;36m[libx264 @ 0x20412a0] \u001b[0mWeighted P-Frames: Y:0.0% UV:0.0%\n",
      "\u001b[1;36m[libx264 @ 0x20412a0] \u001b[0mref P L0: 77.6% 11.5%  7.7%  3.2%\n",
      "\u001b[1;36m[libx264 @ 0x20412a0] \u001b[0mref B L0: 78.3% 19.9%  1.7%\n",
      "\u001b[1;36m[libx264 @ 0x20412a0] \u001b[0mref B L1: 96.4%  3.6%\n",
      "\u001b[1;36m[libx264 @ 0x20412a0] \u001b[0mkb/s:54.42\n"
     ]
    }
   ],
   "source": [
    "!ffmpeg -i /home/jack/Downloads/javascript-tutorial-sorting.mp4 -vf scale=-1:360 -strict -2 -y /home/jack/Downloads/javascript-tutorial-sortingS.mp4"
   ]
  },
  {
   "cell_type": "code",
   "execution_count": 7,
   "metadata": {},
   "outputs": [
    {
     "name": "stdout",
     "output_type": "stream",
     "text": [
      "guided-meditation-visualizing.mp4  nature-sounds-1-hour-river.mp4\r\n"
     ]
    }
   ],
   "source": [
    "!ls /home/jack/Desktop/LBRY-toolbox/Downloads"
   ]
  },
  {
   "cell_type": "code",
   "execution_count": 3,
   "metadata": {},
   "outputs": [
    {
     "name": "stdout",
     "output_type": "stream",
     "text": [
      "/home/jack/Desktop/LBRY-toolbox/Downloads/nature-sounds-1-hour-river.mp4\r\n"
     ]
    }
   ],
   "source": [
    "!ls /home/jack/Desktop/LBRY-toolbox/Downloads/nature-sounds-1-hour-river.mp4"
   ]
  },
  {
   "cell_type": "code",
   "execution_count": 10,
   "metadata": {},
   "outputs": [],
   "source": [
    "!cp vid.html /var/www/lbry-toolbox.com/public/videos/index.html"
   ]
  },
  {
   "cell_type": "code",
   "execution_count": null,
   "metadata": {},
   "outputs": [],
   "source": [
    "!cp vid.html"
   ]
  },
  {
   "cell_type": "code",
   "execution_count": 9,
   "metadata": {},
   "outputs": [
    {
     "name": "stdout",
     "output_type": "stream",
     "text": [
      "Overwriting vid.html\n"
     ]
    }
   ],
   "source": [
    " %%writefile vid.html\n",
    "<htm>\n",
    "<video width=\"640\" height=\"360\" controls>\n",
    "<source src=\"nature-sounds-1-hour-river.mp4\" type=\"video/mp4\">\n",
    "Your browser does not support the video tag.\n",
    "</video> "
   ]
  },
  {
   "cell_type": "code",
   "execution_count": 1,
   "metadata": {},
   "outputs": [
    {
     "data": {
      "text/html": [
       "<video src=\"Downloads/nature-sounds-1-hour-river.mp4\" controls  >\n",
       "      Your browser does not support the <code>video</code> element.\n",
       "    </video>"
      ],
      "text/plain": [
       "<IPython.core.display.Video object>"
      ]
     },
     "execution_count": 1,
     "metadata": {},
     "output_type": "execute_result"
    }
   ],
   "source": [
    "from IPython.display import Video\n",
    "\n",
    "Video(\"Downloads/nature-sounds-1-hour-river.mp4\")"
   ]
  },
  {
   "cell_type": "code",
   "execution_count": 3,
   "metadata": {},
   "outputs": [
    {
     "data": {
      "text/html": [
       "\n",
       "    <video alt=\"test\" controls>\n",
       "        <source src=\"/home/jack/Downloads/javascript-tutorial-sortingS.mp4\" type=\"video/mp4\">\n",
       "    </video>\n"
      ],
      "text/plain": [
       "<IPython.core.display.HTML object>"
      ]
     },
     "execution_count": 3,
     "metadata": {},
     "output_type": "execute_result"
    }
   ],
   "source": [
    "from IPython.display import HTML\n",
    "\n",
    "HTML(\"\"\"\n",
    "    <video alt=\"test\" controls>\n",
    "        <source src=\"/home/jack/Downloads/javascript-tutorial-sortingS.mp4\" type=\"video/mp4\">\n",
    "    </video>\n",
    "\"\"\")"
   ]
  },
  {
   "cell_type": "code",
   "execution_count": 25,
   "metadata": {},
   "outputs": [
    {
     "name": "stdout",
     "output_type": "stream",
     "text": [
      "/home/jack/Downloads/rental-income-new-service-item.mp4\r\n"
     ]
    }
   ],
   "source": [
    "!ls /home/jack/Downloads/rental-income-new-service-item.mp4"
   ]
  },
  {
   "cell_type": "code",
   "execution_count": 31,
   "metadata": {},
   "outputs": [
    {
     "name": "stdout",
     "output_type": "stream",
     "text": [
      "SEARCH : javascript\n",
      "1 Javascript---Arrays#768db92f17bfbbc1d46b29d05515031960ab9105\n",
      "2 javascript-tutorial-sorting-examples-and#4cba872c2a688632a31dcf791f11642316132c32\n",
      "3 Javascript---Objects#655c8c74d55c8d6157bd918a3248e554b303e390\n",
      "4 javascript-arrow-functions-tutorial#b5d6423d3eaf1c8cdba36e2f7a01c3d004289ea4\n",
      "5 javascript-language-tutorial-in-24#1b0d7865c7e5d0e2956532d58c9fdcc7c06bbe77\n",
      "6 javascript-tutorial-from-beginner-to-pro#d102711ba889d97510a587229de373982af69270\n",
      "7 javascript---async-await#244e03440e37c4ff993f291d89a295a9cfa5a79e\n",
      "8 javascript-array-methods-map-filter#aa78f9de41ede92bcb0aa68322c8d2ff8b0ee64d\n",
      "9 javascript#1f6db2e48d85b18a2d26349a07a8b05601a06203\n",
      "10 what-s-the-point-of-javascript#2b7f15966e67d21a71a0a119c6ab927f5326bdc1\n",
      "Enter the number you wish to download: Type 99 to exit 2\n",
      "You will be downloading: javascript-tutorial-sorting-examples-and#4cba872c2a688632a31dcf791f11642316132c32\n",
      "Monitoring filesize increase of claim id javascript-tutorial-sorting-examples-and#4cba872c2a\n",
      "2.10Mb 16.02Mb Waited 40 seconds No filesize change\n"
     ]
    },
    {
     "data": {
      "text/plain": [
       "['The File Appears to be completed.']"
      ]
     },
     "execution_count": 31,
     "metadata": {},
     "output_type": "execute_result"
    }
   ],
   "source": [
    "import os\n",
    "from time import sleep\n",
    "import urllib, json\n",
    "import urllib.request\n",
    "import requests\n",
    "import sys\n",
    "import subprocess\n",
    "from Completed import track_download\n",
    "import sqlite3\n",
    "import watchVID\n",
    "database = 'LBRYDATA.db'\n",
    "conn = sqlite3.connect(database)\n",
    "sql = '''create table if not exists LBRY(\n",
    "KEYWORDS TEXT, DATA TEXT, unique (DATA));'''\n",
    "conn.execute(sql) # shortcut for conn.cursor().execute(sql)\n",
    "conn.commit()\n",
    "c=conn.cursor()\n",
    "search=input(\"SEARCH : \")\n",
    "url = \"https://lighthouse.lbry.com/search?s=\"+search\n",
    "response = urllib.request.urlopen(url)\n",
    "data = json.loads(response.read())\n",
    "cnt=0\n",
    "LIST =[]\n",
    "for line in data:\n",
    "    cnt=cnt+1\n",
    "    line = str(line)\n",
    "    line =line.replace(\"u'\",\"\");line =line.replace(\"{claimId': \",\"\")\n",
    "    line =line.replace(\"', name':\",\"\");line =line.replace(\"}\",\"\")\n",
    "    line =line.replace(\",\",\"\");line =line.replace(\"'\",\"\")\n",
    "    #line =line[:-1]\n",
    "    #print (line)\n",
    "    line=line.split(\" \")\n",
    "    print (cnt,line[3]+\"#\"+line[1])\n",
    "    LIST.append(line[3]+\"#\"+line[1])\n",
    "    content=line[3]+\"#\"+line[1]\n",
    "    try:\n",
    "        c.execute(\"INSERT INTO LBRY VALUES (?,?)\", (search, content))\n",
    "    except:\n",
    "        pass\n",
    "conn.commit()\n",
    "conn.close()\n",
    "choice =int(input(\"Enter the number you wish to download: Type 99 to exit \"))\n",
    "#if choice==99:raise SystemExit(\"Stop right there!\")\n",
    "if choice==99:raise SystemExit(\"Stopped by 99 !\")\n",
    "print (\"You will be downloading:\",(LIST[choice-1]))\n",
    "\n",
    "requests.post(\"http://localhost:5279\", json={\"method\": \"get\", \"params\": {\"uri\": LIST[choice-1] }}).json()\n",
    "print (\"Monitoring filesize increase of claim id \"+LIST[choice-1][:-30])\n",
    "'''\n",
    "bashCommand = \"lbrynet get \"+LIST[choice-1]\n",
    "print bashCommand\n",
    "process = subprocess.Popen(bashCommand.split(), stdout=subprocess.PIPE)\n",
    "output, error = process.communicate()\n",
    "print \"Monitoring filesize increase of claim id \"+LIST[choice-1][:-30]\n",
    "'''\n",
    "track_download()\n",
    "\n",
    "#uncomment below to auto-open vlc to view the downloaded video\n",
    "#try:\n",
    "#    watchVID.WATCH()\n",
    "#except:\n",
    "#    sys.exit()\n"
   ]
  },
  {
   "cell_type": "code",
   "execution_count": 1,
   "metadata": {},
   "outputs": [
    {
     "name": "stdout",
     "output_type": "stream",
     "text": [
      "5279.db\r\n",
      "9200.data\r\n",
      "abandon\r\n",
      "A-Peek-Inside-lbrynet.sqlite.ipynb\r\n",
      "BaseImage\r\n",
      "blobfilesize\r\n",
      "blobsize\r\n",
      "CaPplay\r\n",
      "claim_list.db\r\n",
      "claim_list.json\r\n",
      "claim_search\r\n",
      "comment_list.db\r\n",
      "Completed.py\r\n",
      "CREATEimage\r\n",
      "crytonator\r\n",
      "data.json\r\n",
      "functioning_command_lines.info\r\n",
      "GetGitSize\r\n",
      "How-to-get-claim_list-all-working.ipynb\r\n",
      "How-to-get-stream_list-all-working.ipynb\r\n",
      "How-to-get-transaction-history-checkpoint.ipynb\r\n",
      "How-to-get-transaction-history.ipynb\r\n",
      "images\r\n",
      "LBRYDATA.db\r\n",
      "LBRY_DLOAD\r\n",
      "LBRY-Python-Place-Data-in-Database.ipynb\r\n",
      "lbry-transactions-history.csv\r\n",
      "Monitor\r\n",
      "Plots-Graphs.ipynb\r\n",
      "post\r\n",
      "__pycache__\r\n",
      "README.md\r\n",
      "retrieve-video-from-database.ipynb\r\n",
      "search_data\r\n",
      "SignBaseImage\r\n",
      "stream_list2.db\r\n",
      "stream_list.db\r\n",
      "stream_list-exp.db\r\n",
      "stream_list-exp.json\r\n",
      "support_list.db\r\n",
      "temp\r\n",
      "test-transactio.json\r\n",
      "test-transaction.json\r\n",
      "transaction_001.db\r\n",
      "transaction_list10.db\r\n",
      "transaction_list5.db\r\n",
      "transaction_list6.db\r\n",
      "transaction_list.db\r\n",
      "Untitled.ipynb\r\n",
      "wallet\r\n",
      "watchVID.py\r\n",
      "watchVID.pyc\r\n"
     ]
    }
   ],
   "source": [
    "!ls"
   ]
  },
  {
   "cell_type": "code",
   "execution_count": null,
   "metadata": {},
   "outputs": [],
   "source": []
  }
 ],
 "metadata": {
  "kernelspec": {
   "display_name": "Python 3",
   "language": "python",
   "name": "python3"
  },
  "language_info": {
   "codemirror_mode": {
    "name": "ipython",
    "version": 3
   },
   "file_extension": ".py",
   "mimetype": "text/x-python",
   "name": "python",
   "nbconvert_exporter": "python",
   "pygments_lexer": "ipython3",
   "version": "3.7.0"
  }
 },
 "nbformat": 4,
 "nbformat_minor": 4
}
